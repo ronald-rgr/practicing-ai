{
 "cells": [
  {
   "cell_type": "markdown",
   "metadata": {
    "colab_type": "text",
    "id": "y8F-5tMKTQjL"
   },
   "source": [
    "## Assignment 2 - Ronald Garcia"
   ]
  },
  {
   "cell_type": "markdown",
   "metadata": {
    "colab_type": "text",
    "id": "07Y_ONdkTQjR"
   },
   "source": [
    "This assignmemt is based on content discussed in module 2 and will work on a solution for the famous Monty Hall game.  Retrieved from https://en.wikipedia.org/wiki/Monty_Hall_problem\n"
   ]
  },
  {
   "cell_type": "markdown",
   "metadata": {
    "colab_type": "text",
    "id": "7hNSzgdzTQjU"
   },
   "source": [
    "## Learning outcomes"
   ]
  },
  {
   "cell_type": "markdown",
   "metadata": {
    "colab_type": "text",
    "id": "2QtRX9sRTQjX"
   },
   "source": [
    "- Program a simple simulation to solve a concrete statistical problem\n",
    "- Develop insight into the Bayesian probabilistic viewpoint\n",
    "- Recognize that statistical intuition can sometimes be wrong\n"
   ]
  },
  {
   "cell_type": "markdown",
   "metadata": {
    "colab_type": "text",
    "id": "lfLffNUWTQja"
   },
   "source": [
    "** Question 1 **\n",
    "Given below is the description of the problem.  \n",
    "\n",
    "Suppose you're on a game show and you're given the choice of three doors. \n",
    "\n",
    "Behind one door is a car; behind the others, goats. The car and the goats were placed randomly behind the doors before the show.\n",
    "\n",
    "The rules are:\n",
    "\n",
    "After you have chosen a door, the door remains closed for the time being. \n",
    "The game show host, Monty Hall, who knows what is behind the doors, now has to open one of the two remaining doors, and the door he opens must have a goat behind it. If both remaining doors have goats behind them, he chooses one randomly. \n",
    "\n",
    "After Monty opens a door with a goat, he will ask you to decide whether you want to stay with your first choice or to switch to the last remaining door. \n",
    "Imagine that you chose Door 1 and the host opens Door 3, which has a goat. \n",
    "He then asks you \"Do you want to switch to Door Number 2?\" Is it to your advantage to change your choice? \n",
    "\n",
    "**NOTES:**\n",
    "1. The player may initially choose any of the three doors (not just Door 1).\n",
    "2. The host opens a different door revealing a goat (not necessarily Door 3).\n",
    "3. The host gives the player a second choice between the two remaining unopened doors. \n"
   ]
  },
  {
   "cell_type": "markdown",
   "metadata": {
    "colab_type": "text",
    "id": "L041acdjTQjb"
   },
   "source": [
    "![image.png](attachment:image.png)\n",
    "\n",
    "(Source: https://en.wikipedia.org/wiki/Monty_Hall_problem#/media/File:Monty_open_door.svg )\n",
    "\n",
    "[Monty hall problem ]"
   ]
  },
  {
   "cell_type": "markdown",
   "metadata": {
    "colab_type": "text",
    "id": "dAuGtwxzTQje"
   },
   "source": [
    "- Write Python code to solve the Monty Hall problem. Simulate at least a thousand games using three doors for each strategy and show the results in such a way as to make it easy to compare the effects of each strategy.\n"
   ]
  },
  {
   "cell_type": "code",
   "execution_count": 1,
   "metadata": {
    "colab": {},
    "colab_type": "code",
    "id": "GlZk3mKETQjg"
   },
   "outputs": [],
   "source": [
    "#your work here"
   ]
  },
  {
   "cell_type": "code",
   "execution_count": 2,
   "metadata": {},
   "outputs": [],
   "source": [
    "import numpy as np\n",
    "import pandas as pd\n",
    "import matplotlib.pyplot as plt\n",
    "\n",
    "%matplotlib inline\n"
   ]
  },
  {
   "cell_type": "code",
   "execution_count": 3,
   "metadata": {},
   "outputs": [],
   "source": [
    "stay = []\n",
    "switch = []\n",
    "doors = [1,2,3]\n",
    "\n",
    "#Simulation - ten thousand games using three doors \n",
    "for i in range(10000):\n",
    "    \n",
    "    #random assign a car\n",
    "    car_door = np.random.randint(1,4)\n",
    "    \n",
    "    #random assign a guess for the player\n",
    "    player_guess = np.random.randint(1,4)\n",
    "    \n",
    "    #let's get the goat doors \n",
    "    doors_copy = doors[:]\n",
    "    doors_copy.remove(car_door)\n",
    "    goat_doors = doors_copy[:]\n",
    "    \n",
    "    #the host opens a different door revealing a goat - excluding the player guess\n",
    "    if goat_doors.count(player_guess) > 0:\n",
    "        goat_doors.remove(player_guess)\n",
    "    possible_reveal_doors = goat_doors[:]\n",
    "    if len(possible_reveal_doors) == 2:\n",
    "        reveal_door = np.random.choice(possible_reveal_doors)\n",
    "    else:\n",
    "        reveal_door = possible_reveal_doors[0]\n",
    "       \n",
    "    #let's define a switch door regardless of whether or not our strategy is to switch or stay\n",
    "    #- not the player guess and not the reveal door \n",
    "    doors_copy = doors[:]\n",
    "    doors_copy.remove(player_guess)\n",
    "    doors_copy.remove(reveal_door)\n",
    "    switch_door = doors_copy[0]\n",
    "    #let's record the results for our iteration\n",
    "    if car_door == switch_door:\n",
    "        switch.append(1)\n",
    "        stay.append(0)\n",
    "    else:\n",
    "        switch.append(0)\n",
    "        stay.append(1)"
   ]
  },
  {
   "cell_type": "code",
   "execution_count": 4,
   "metadata": {},
   "outputs": [
    {
     "name": "stdout",
     "output_type": "stream",
     "text": [
      "Probability of Winning if Switch:  67.10%\n",
      "Probability of Winning if Stay:  32.90%\n"
     ]
    }
   ],
   "source": [
    "#Probabilities\n",
    "win_switch = np.mean(switch)\n",
    "win_stay = np.mean(stay)\n",
    "print(f\"Probability of Winning if Switch: {win_switch : 0.2%}\")\n",
    "print(f\"Probability of Winning if Stay: {win_stay : 0.2%}\")"
   ]
  },
  {
   "cell_type": "code",
   "execution_count": 5,
   "metadata": {},
   "outputs": [],
   "source": [
    "#Let's visualize our results"
   ]
  },
  {
   "cell_type": "code",
   "execution_count": 6,
   "metadata": {},
   "outputs": [],
   "source": [
    "df_strategies = pd.DataFrame([['Switch', win_switch], ['Stay', win_stay]], columns = ['Strategy', 'Mean']) "
   ]
  },
  {
   "cell_type": "code",
   "execution_count": 7,
   "metadata": {},
   "outputs": [
    {
     "data": {
      "image/png": "[encoded data removed]",
      "text/plain": [
       "<Figure size 720x432 with 1 Axes>"
      ]
     },
     "metadata": {},
     "output_type": "display_data"
    }
   ],
   "source": [
    "pie, ax = plt.subplots(figsize=[10,6])\n",
    "labels = df_strategies['Strategy']\n",
    "plt.pie(x=df_strategies['Mean'], autopct=\"%.2f%%\", explode=[0.05]*2, labels=labels, pctdistance=0.5)\n",
    "plt.title(\"Probabilities by strategy - Monty Hall game\", fontsize=14);"
   ]
  },
  {
   "cell_type": "code",
   "execution_count": 8,
   "metadata": {},
   "outputs": [],
   "source": [
    "#As we can see, the probability of Switch winning is about 2/3\n",
    "#and the probability of Stay winning is about about 1/3"
   ]
  }
 ],
 "metadata": {
  "colab": {
   "name": "Assignment 2.ipynb",
   "provenance": [],
   "version": "0.3.2"
  },
  "kernelspec": {
   "display_name": "Python 3",
   "language": "python",
   "name": "python3"
  },
  "language_info": {
   "codemirror_mode": {
    "name": "ipython",
    "version": 3
   },
   "file_extension": ".py",
   "mimetype": "text/x-python",
   "name": "python",
   "nbconvert_exporter": "python",
   "pygments_lexer": "ipython3",
   "version": "3.7.7"
  }
 },
 "nbformat": 4,
 "nbformat_minor": 1
}
