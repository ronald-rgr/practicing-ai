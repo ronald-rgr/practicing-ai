{
 "cells": [
  {
   "cell_type": "markdown",
   "metadata": {
    "colab_type": "text",
    "id": "y8F-5tMKTQjL"
   },
   "source": [
    "## Assignment 2"
   ]
  },
  {
   "cell_type": "markdown",
   "metadata": {
    "colab_type": "text",
    "id": "07Y_ONdkTQjR"
   },
   "source": [
    "This assignmemt is based on content discussed in module 2 and will work on a solution for the famous Monty Hall game.  Retrieved from https://en.wikipedia.org/wiki/Monty_Hall_problem\n"
   ]
  },
  {
   "cell_type": "markdown",
   "metadata": {
    "colab_type": "text",
    "id": "7hNSzgdzTQjU"
   },
   "source": [
    "## Learning outcomes"
   ]
  },
  {
   "cell_type": "markdown",
   "metadata": {
    "colab_type": "text",
    "id": "2QtRX9sRTQjX"
   },
   "source": [
    "- Program a simple simulation to solve a concrete statistical problem\n",
    "- Develop insight into the Bayesian probabilistic viewpoint\n",
    "- Recognize that statistical intuition can sometimes be wrong\n"
   ]
  },
  {
   "cell_type": "markdown",
   "metadata": {
    "colab_type": "text",
    "id": "lfLffNUWTQja"
   },
   "source": [
    "** Question 1 **\n",
    "Given below is the description of the problem.  \n",
    "\n",
    "Suppose you're on a game show and you're given the choice of three doors. \n",
    "\n",
    "Behind one door is a car; behind the others, goats. The car and the goats were placed randomly behind the doors before the show.\n",
    "\n",
    "The rules are:\n",
    "\n",
    "After you have chosen a door, the door remains closed for the time being. \n",
    "The game show host, Monty Hall, who knows what is behind the doors, now has to open one of the two remaining doors, and the door he opens must have a goat behind it. If both remaining doors have goats behind them, he chooses one randomly. \n",
    "\n",
    "After Monty opens a door with a goat, he will ask you to decide whether you want to stay with your first choice or to switch to the last remaining door. \n",
    "Imagine that you chose Door 1 and the host opens Door 3, which has a goat. \n",
    "He then asks you \"Do you want to switch to Door Number 2?\" Is it to your advantage to change your choice? \n",
    "\n",
    "**NOTES:**\n",
    "1. The player may initially choose any of the three doors (not just Door 1).\n",
    "2. The host opens a different door revealing a goat (not necessarily Door 3).\n",
    "3. The host gives the player a second choice between the two remaining unopened doors. \n"
   ]
  },
  {
   "cell_type": "markdown",
   "metadata": {
    "colab_type": "text",
    "id": "L041acdjTQjb"
   },
   "source": [
    "![image.png](attachment:image.png)\n",
    "\n",
    "(Source: https://en.wikipedia.org/wiki/Monty_Hall_problem#/media/File:Monty_open_door.svg )\n",
    "\n",
    "[Monty hall problem ]"
   ]
  },
  {
   "cell_type": "markdown",
   "metadata": {
    "colab_type": "text",
    "id": "dAuGtwxzTQje"
   },
   "source": [
    "- Write Python code to solve the Monty Hall problem. Simulate at least a thousand games using three doors for each strategy and show the results in such a way as to make it easy to compare the effects of each strategy.\n"
   ]
  },
  {
   "cell_type": "code",
   "execution_count": 1,
   "metadata": {
    "colab": {},
    "colab_type": "code",
    "id": "GlZk3mKETQjg"
   },
   "outputs": [],
   "source": [
    "#your work here"
   ]
  },
  {
   "cell_type": "code",
   "execution_count": null,
   "metadata": {},
   "outputs": [],
   "source": []
  }
 ],
 "metadata": {
  "colab": {
   "name": "Assignment 2.ipynb",
   "provenance": [],
   "version": "0.3.2"
  },
  "kernelspec": {
   "display_name": "Python 3",
   "language": "python",
   "name": "python3"
  },
  "language_info": {
   "codemirror_mode": {
    "name": "ipython",
    "version": 3
   },
   "file_extension": ".py",
   "mimetype": "text/x-python",
   "name": "python",
   "nbconvert_exporter": "python",
   "pygments_lexer": "ipython3",
   "version": "3.7.7"
  }
 },
 "nbformat": 4,
 "nbformat_minor": 1
}
