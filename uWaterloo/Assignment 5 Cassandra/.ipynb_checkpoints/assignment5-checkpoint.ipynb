{
 "cells": [
  {
   "cell_type": "markdown",
   "metadata": {
    "colab_type": "text",
    "id": "pNfoXODGq4TV"
   },
   "source": [
    "## Assignment 5 - Cassandra"
   ]
  },
  {
   "cell_type": "markdown",
   "metadata": {
    "colab_type": "text",
    "id": "qMr5xQgIq4TX"
   },
   "source": [
    "## Learning Outcomes\n",
    "\n",
    "In this assignment, you will do the following:\n",
    "\n",
    "* Design Data Model for Cassandra using Chebotko Diagrams\n",
    "\n",
    "* Create Cassandra tables based on data model designed\n",
    "\n",
    "* Insert sample data of your choice"
   ]
  },
  {
   "cell_type": "markdown",
   "metadata": {
    "colab_type": "text",
    "id": "GgvpSXx_q4TX"
   },
   "source": [
    "### Prerequisites\n",
    "Setup Cassandra (Instructions provided under Module9 Cassandra Setup Instructions.pdf)\n",
    "\n",
    "### Recommended \n",
    "\n",
    "Refer to these links to learn more about chebotko diagrams - https://www.oreilly.com/content/cassandra-data-modeling/\n",
    "\n",
    "https://www.datastax.com/sites/default/files/content/whitepaper/files/2019-10/CM2019236%20-%20Data%20Modeling%20in%20Apache%20Cassandra%20%E2%84%A2%20White%20Paper-4.pdf\n",
    "\n",
    "You may also refer to the original conference paper from 2015 here: \n",
    "https://www.researchgate.net/publication/308856170_A_Big_Data_Modeling_Methodology_for_Apache_Cassandra\n",
    "\n",
    "\n",
    "\n",
    "\n",
    "### Assignment Instructions\n",
    "**Your Challenge**:  \n",
    "Design a data model for a database which stores information about all universities\n",
    "    which offer a course in Data Science.  \n",
    "    Each university has the following information: (Name, Phone, Address)  \n",
    "    Each course has the following information : (Course Name, ID, Cost, Course Registration Date)  \n",
    "    Each person has the following information: (Name, Phone, Address)  \n",
    "    Your data Model should solve the problem of storing data in Cassandra based on these Query requirements  \n",
    "    01. Find universities(including university info) near a person\n",
    "    02. Find information about a given university\n",
    "    03. Find people(Only names) interested near a university\n",
    "    04. Find courses whose registration date is in future based on universities found in Query A.\n",
    "    05. Find details about a person found in Query C.\n",
    "\n",
    "Assumptions: Distance(km range) between a university and a person is already available.   \n",
    "Hint: Create a field called distance where required and use a clause on proximity for interest in a university.\n",
    "\n",
    "**Questions** ( 10 marks)\n",
    "1. Draw Logical Data Model using Chebotko Diagram.\n",
    "2. cql file that creates the keyspace, tables, types as required (Add 2 rows of any sample data for all the tables created).\n",
    "\n"
   ]
  },
  {
   "cell_type": "markdown",
   "metadata": {
    "colab_type": "text",
    "id": "_yPH8F9qOIn5"
   },
   "source": [
    "**Note**: You can draw the Chebotko Diagram on a paper and upload a picture of it for submission.  \n",
    "cql file is just a txt file saved with extension `.cql`.  \n",
    "It should only have the cql queries, so that the grader can run the file directly without requiring any changes. \n",
    "\n",
    "**Grading Rubric**  \n",
    "\n",
    "- 5 marks for Chebotko Diagram ( As mentioned above, you have to create data model based on the above 5 query requirements. 1 mark for each of the 5 queries)\n",
    "\n",
    "- 5 marks for cql file ( 1 mark each for cql queries matching the data model design)"
   ]
  },
  {
   "cell_type": "code",
   "execution_count": null,
   "metadata": {},
   "outputs": [],
   "source": []
  }
 ],
 "metadata": {
  "colab": {
   "collapsed_sections": [],
   "name": "Assignment 5_New.ipynb",
   "provenance": [],
   "version": "0.3.2"
  },
  "kernelspec": {
   "display_name": "Python 3",
   "language": "python",
   "name": "python3"
  },
  "language_info": {
   "codemirror_mode": {
    "name": "ipython",
    "version": 3
   },
   "file_extension": ".py",
   "mimetype": "text/x-python",
   "name": "python",
   "nbconvert_exporter": "python",
   "pygments_lexer": "ipython3",
   "version": "3.7.4"
  }
 },
 "nbformat": 4,
 "nbformat_minor": 1
}
