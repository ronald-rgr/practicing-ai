{
 "cells": [
  {
   "cell_type": "markdown",
   "metadata": {
    "colab_type": "text",
    "id": "1oGjoWSWqQ77"
   },
   "source": [
    "## Assignment 3 - Ronald Garcia"
   ]
  },
  {
   "cell_type": "markdown",
   "metadata": {
    "colab_type": "text",
    "id": "-oi4JzShqQ78"
   },
   "source": [
    "This assignmemt is based on content discussed in module 3 and test basic concepts of probability theory and normalization in statistics."
   ]
  },
  {
   "cell_type": "markdown",
   "metadata": {
    "colab_type": "text",
    "id": "gjI1J5nXqQ79"
   },
   "source": [
    "## Learning outcomes"
   ]
  },
  {
   "cell_type": "markdown",
   "metadata": {
    "colab_type": "text",
    "id": "R9t0LyaqqQ7-"
   },
   "source": [
    "-   Work on problems of different distributions eg., binomial, gaussian \n",
    "-   Calculate z score \n",
    "-\t Make statistical inferences on given data\n",
    "-\t Construct a null and an alternate hypothesis\n",
    "-\t Find the p-value for a given hypothesis and T test statistic.\n"
   ]
  },
  {
   "cell_type": "markdown",
   "metadata": {
    "colab_type": "text",
    "id": "_lXvCMN_qQ7_"
   },
   "source": [
    "**Question 1**\n",
    "\n",
    "The Capital Asset Pricing Model (CAPM) is a financial model that assumes returns on a portfolio are normally distributed.  Suppose a portfolio has an average annual return of 14.7% (i.e., an average gain on 14.7%) with a standard deviation of 33%.  A return of 0% means the value of the portfolio doesn't change, a negative return means that the portfolio loses money, and a positive return means that the portfolio gains money. Determine the following:\n",
    "\n",
    "1. What percentage of years does this portfolio lose money, (i.e. have a return less than 0%)?\n",
    "2. What is the cutoff for the highest 15% of annual returns with this portfolio?\n",
    "\n",
    "See CAPM here https://en.wikipedia.org/wiki/Capital_asset_pricing_model "
   ]
  },
  {
   "cell_type": "markdown",
   "metadata": {
    "colab_type": "text",
    "id": "_l53E9BAqQ8A"
   },
   "source": [
    "**Question 2**\n",
    "\n",
    "Past experience indicates that because of low morale, a company loses 20 hours a year per employee due to lateness and abstenteeism.  Assume that the standard deviation of the population is 6 and normally distributed.\n",
    "\n",
    "The HR department implemented a new rewards system to increase employee morale, and after a few months it collected a random sample of 20 employees and the annualized absenteeism was 14.\n",
    "\n",
    "1. Could you confirm that the new rewards system was effective with a 90% confidence?\n",
    "2. An HR subject matter expert would be very happy if the program could reduce absenteeism by 20% (i.e. to 16 hours).  Given the current sampling parameters, what is the probability that the new rewards system reduced absenteeism to 16 hours and you miss it?\n",
    "3. Repeat part 1) and 2) with an α = 95% CI.\n",
    "4. Based on the answers in 3), is the sampling method good enough to identify a reduction from 20 to 16 hours if I use a confidence of 95%?\n",
    "5. What should the sample size be if you want β to be 5%"
   ]
  },
  {
   "cell_type": "markdown",
   "metadata": {
    "colab_type": "text",
    "id": "LOjrz6ycqQ8A"
   },
   "source": [
    "**Question 3**\n",
    "\n",
    "Chi-Square Goodness of fit\n",
    "\n",
    "Please access and review **section 6.3.5** in the OpenIntro Statistics textbook:\n",
    "\n",
    "Diez, D., Barr, C. & Çetinkaya-Rundel, M. (2017). OpenIntro Statistics (3rd Ed.). https://www.openintro.org/stat/textbook.php?stat_book=os\n",
    "\n",
    "Given the information in section 6.3.5, write python code for the following:\n",
    "\n",
    " - Calculate the expected values based on the geometric distribution with a probability of 53.2%\n",
    " - Compare the expected vs. the observed values from the textbook using the Chi-Square distribution\n",
    " - Reach a conclusion\n",
    " - Explain what is the business impact of your conclusion"
   ]
  },
  {
   "cell_type": "code",
   "execution_count": 1,
   "metadata": {
    "colab": {},
    "colab_type": "code",
    "id": "hSKqK4gZqQ8B"
   },
   "outputs": [],
   "source": [
    "#your work here"
   ]
  },
  {
   "cell_type": "code",
   "execution_count": 2,
   "metadata": {},
   "outputs": [],
   "source": [
    "import numpy as np\n",
    "%matplotlib inline\n",
    "import matplotlib.pyplot as plt\n",
    "import scipy.stats as stats\n",
    "from math import sqrt, pi, ceil"
   ]
  },
  {
   "cell_type": "markdown",
   "metadata": {},
   "source": [
    "Question 1 - What percentage of years does this portfolio lose money, (i.e. have a return less than 0%)?"
   ]
  },
  {
   "cell_type": "code",
   "execution_count": 3,
   "metadata": {},
   "outputs": [],
   "source": [
    "#let's consider X = return on the portfolio so the question 1 is P(X<0)\n",
    "#we can use the followin formula to calculate z_score\n",
    "sample_mean = 14.7\n",
    "standard_deviation = 33\n",
    "point_estimate = 0\n",
    "z_score = (point_estimate - sample_mean) / standard_deviation"
   ]
  },
  {
   "cell_type": "code",
   "execution_count": 4,
   "metadata": {},
   "outputs": [
    {
     "data": {
      "text/plain": [
       "-0.44545454545454544"
      ]
     },
     "execution_count": 4,
     "metadata": {},
     "output_type": "execute_result"
    }
   ],
   "source": [
    "z_score"
   ]
  },
  {
   "cell_type": "code",
   "execution_count": 5,
   "metadata": {},
   "outputs": [],
   "source": [
    "#P(X<0) = P(z < -0.45) ---> Looking z_score in z table the propability is .3264 so the answer is 32.64%"
   ]
  },
  {
   "cell_type": "code",
   "execution_count": 6,
   "metadata": {},
   "outputs": [],
   "source": [
    "import scipy.stats as st"
   ]
  },
  {
   "cell_type": "code",
   "execution_count": 7,
   "metadata": {},
   "outputs": [],
   "source": [
    "#Let's use CDF"
   ]
  },
  {
   "cell_type": "code",
   "execution_count": 8,
   "metadata": {},
   "outputs": [],
   "source": [
    "prob_X_less_than_zero = stats.norm.cdf(0, loc=sample_mean, scale=standard_deviation) #loc (mean) scale (standard deviation)"
   ]
  },
  {
   "cell_type": "code",
   "execution_count": 9,
   "metadata": {},
   "outputs": [
    {
     "data": {
      "text/plain": [
       "0.3279956507031998"
      ]
     },
     "execution_count": 9,
     "metadata": {},
     "output_type": "execute_result"
    }
   ],
   "source": [
    "prob_X_less_than_zero"
   ]
  },
  {
   "cell_type": "markdown",
   "metadata": {},
   "source": [
    "Question 1 (2) - What is the cutoff for the highest 15% of annual returns with this portfolio?"
   ]
  },
  {
   "cell_type": "code",
   "execution_count": 10,
   "metadata": {},
   "outputs": [],
   "source": [
    "prob_X_highest_than_15 = stats.norm.ppf(0.85, loc=sample_mean, scale=standard_deviation)"
   ]
  },
  {
   "cell_type": "code",
   "execution_count": 11,
   "metadata": {},
   "outputs": [
    {
     "data": {
      "text/plain": [
       "48.90230185329506"
      ]
     },
     "execution_count": 11,
     "metadata": {},
     "output_type": "execute_result"
    }
   ],
   "source": [
    "prob_X_highest_than_15"
   ]
  },
  {
   "cell_type": "code",
   "execution_count": 12,
   "metadata": {},
   "outputs": [],
   "source": [
    "#we could also assume that the highest 15% was at 0.85 on the table \n",
    "#which correlates to a Z score of 1.04 so we can use the formula --> 1.04 = (point_estimate - 14.7) / 33\n",
    "new_point_estimate = 1.04 * standard_deviation + sample_mean"
   ]
  },
  {
   "cell_type": "code",
   "execution_count": 13,
   "metadata": {},
   "outputs": [
    {
     "data": {
      "text/plain": [
       "49.019999999999996"
      ]
     },
     "execution_count": 13,
     "metadata": {},
     "output_type": "execute_result"
    }
   ],
   "source": [
    "new_point_estimate"
   ]
  },
  {
   "cell_type": "markdown",
   "metadata": {},
   "source": [
    "Question 2 (1) - Could you confirm that the new rewards system was effective with a 90% confidence?"
   ]
  },
  {
   "cell_type": "code",
   "execution_count": 14,
   "metadata": {},
   "outputs": [],
   "source": [
    "#H_0: new reward system was not effective. Number of hour did not change\n",
    "#H_a: system was effective and new average hours is less than 20\n",
    "#Lest's calculate test statistics\n",
    "sample_mean = 14\n",
    "sample_size = 20\n",
    "population_mean = 20\n",
    "standard_deviation = 6\n",
    "standard_error=standard_deviation/sqrt(sample_size)\n",
    "ttest = (sample_mean - population_mean) / standard_error"
   ]
  },
  {
   "cell_type": "code",
   "execution_count": 15,
   "metadata": {},
   "outputs": [
    {
     "data": {
      "text/plain": [
       "-4.47213595499958"
      ]
     },
     "execution_count": 15,
     "metadata": {},
     "output_type": "execute_result"
    }
   ],
   "source": [
    "ttest"
   ]
  },
  {
   "cell_type": "code",
   "execution_count": 16,
   "metadata": {},
   "outputs": [
    {
     "data": {
      "text/plain": [
       "0.0001305966891701308"
      ]
     },
     "execution_count": 16,
     "metadata": {},
     "output_type": "execute_result"
    }
   ],
   "source": [
    "#let's find our p-value \n",
    "stats.t.sf(abs(ttest), df=sample_size-1)"
   ]
  },
  {
   "cell_type": "code",
   "execution_count": 17,
   "metadata": {},
   "outputs": [],
   "source": [
    "#significance level is (1 - confidence interval),i.e., 1 - 0.90 = 0.10\n",
    "#our p-value (0.0001305966891701308) is less than 0.10 which means that we reject the null hypothesis \n",
    "#and we would suggest the alternative, that the new average hours is less than 20"
   ]
  },
  {
   "cell_type": "markdown",
   "metadata": {},
   "source": [
    "Question 2 (2) - An HR subject matter expert would be very happy if the program could reduce absenteeism by 20% (i.e. to 16 hours). Given the current sampling parameters, what is the probability that the new rewards system reduced absenteeism to 16 hours and you miss it?"
   ]
  },
  {
   "cell_type": "code",
   "execution_count": 18,
   "metadata": {},
   "outputs": [
    {
     "name": "stdout",
     "output_type": "stream",
     "text": [
      "probability of getting a type 2 error:  14.809828158220084 %\n"
     ]
    }
   ],
   "source": [
    "mean_alternative=16\n",
    "#let's figure out the z-score where it gives the confidence level 0.9 \n",
    "#from t distribution with mu=20, se=sigma/sqrt(n)\n",
    "x_critical=stats.t.ppf(0.1, df=sample_size - 1, loc=population_mean, scale=standard_error)\n",
    "#We find the x corresponding to the z-score using z-score=(x-mu)/se\n",
    "z_score=(x_critical - mean_alternative) / standard_error\n",
    "#z_score to find the type II error using cdf() function \n",
    "prob = 1 - (stats.t.cdf(z_score,standard_error))\n",
    "print('probability of getting a type 2 error: ', prob*100,'%')"
   ]
  },
  {
   "cell_type": "markdown",
   "metadata": {},
   "source": [
    "Question 2 (3) - Repeat part 1) and 2) with an α = 95% CI."
   ]
  },
  {
   "cell_type": "code",
   "execution_count": 19,
   "metadata": {},
   "outputs": [],
   "source": [
    "#Our new significance level is (1 - confidence interval),i.e., 1 - 0.95 = 0.05\n",
    "#our p-value remains the same (0.0001305966891701308) - see above calculation, \n",
    "#p-value is less than 0.05 which means that we reject the null hypothesis \n",
    "#NOTE: even if we change our sample mean to 16 our p-value is 0.003835306722894287"
   ]
  },
  {
   "cell_type": "code",
   "execution_count": 20,
   "metadata": {},
   "outputs": [
    {
     "name": "stdout",
     "output_type": "stream",
     "text": [
      "probability of getting a type 2 error:  19.290170198064573 %\n"
     ]
    }
   ],
   "source": [
    "#let's calculate the probability of getting a type 2 error with the new CI\n",
    "x_critical=stats.t.ppf(0.05, df=sample_size - 1, loc=population_mean, scale=standard_error)\n",
    "#We find the x corresponding to the z-score using z-score=(x-mu)/se\n",
    "z_score=(x_critical - mean_alternative) / standard_error\n",
    "#z_score to find the type II error using cdf() function \n",
    "prob = 1 - (stats.t.cdf(z_score,standard_error)) \n",
    "print('probability of getting a type 2 error: ', prob*100,'%')"
   ]
  },
  {
   "cell_type": "markdown",
   "metadata": {},
   "source": [
    "Question 2 (4) - Based on the answers in 3), is the sampling method good enough to identify a reduction from 20 to 16 hours if I use a confidence of 95%?"
   ]
  },
  {
   "cell_type": "code",
   "execution_count": 21,
   "metadata": {},
   "outputs": [],
   "source": [
    "#A type 2 error occurs if we fail to reject a null hypothesis that is actually false in the population. \n",
    "#I belive the sampling methog is good enough to identify the reduction (20 to 16)"
   ]
  },
  {
   "cell_type": "markdown",
   "metadata": {},
   "source": [
    "Question 2 (5) - What should the sample size be if you want β to be 5%"
   ]
  },
  {
   "cell_type": "code",
   "execution_count": 22,
   "metadata": {},
   "outputs": [],
   "source": [
    "#I am using the formula below for the sample size calculation considering on sample, continuous outcome\n",
    "effect_size = abs(16 - 20)/standard_deviation #mean sample - mean population\n",
    "n=(1.96+0.84/effect_size)**2 #α =0.05"
   ]
  },
  {
   "cell_type": "code",
   "execution_count": 23,
   "metadata": {},
   "outputs": [
    {
     "data": {
      "text/plain": [
       "10.368399999999998"
      ]
     },
     "execution_count": 23,
     "metadata": {},
     "output_type": "execute_result"
    }
   ],
   "source": [
    "n"
   ]
  },
  {
   "cell_type": "markdown",
   "metadata": {},
   "source": [
    "Question 3 - Given the information in section 6.3.5, write python code for the following:\n",
    "\n",
    "-Calculate the expected values based on the geometric distribution with a probability of 53.2%\n",
    "\n",
    "-Compare the expected vs. the observed values from the textbook using the Chi-Square distribution\n",
    "\n",
    "-Reach a conclusion\n",
    "\n",
    "-Explain what is the business impact of your conclusion"
   ]
  },
  {
   "cell_type": "code",
   "execution_count": 27,
   "metadata": {},
   "outputs": [],
   "source": [
    "#-Calculate the expected values based on the geometric distribution with a probability of 54.5%\n",
    "#waiting day based on the geometric model (P(D) = (1 − 0.545)**D−1 * (0.545))\n",
    "def prob_day(day):\n",
    "    return ((1-0.545)**(day-1)) * (0.545)\n",
    "total_days = 1362\n",
    "expected_values = (round(prob_day(1)*total_days),\n",
    "                   round(prob_day(2)*total_days),\n",
    "                   round(prob_day(3)*total_days),\n",
    "                   round(prob_day(4)*total_days),\n",
    "                   round(prob_day(5)*total_days),\n",
    "                   round(prob_day(6)*total_days),\n",
    "                   #7+ \n",
    "                   round(prob_day(7)*total_days)+round(prob_day(8)*total_days)+round(prob_day(9)*total_days)\n",
    "                   +round(prob_day(10)*total_days+round(prob_day(11)*total_days)))"
   ]
  },
  {
   "cell_type": "code",
   "execution_count": 28,
   "metadata": {},
   "outputs": [
    {
     "data": {
      "text/plain": [
       "(742, 338, 154, 70, 32, 14, 12)"
      ]
     },
     "execution_count": 28,
     "metadata": {},
     "output_type": "execute_result"
    }
   ],
   "source": [
    "expected_values"
   ]
  },
  {
   "cell_type": "code",
   "execution_count": 29,
   "metadata": {},
   "outputs": [
    {
     "name": "stdout",
     "output_type": "stream",
     "text": [
      "The chi-squared test statistic is 4.54\n",
      "The p-value for the test is 0.60\n"
     ]
    }
   ],
   "source": [
    "#-Compare the expected vs. the observed values from the textbook using the Chi-Square distribution\n",
    "observed_values = (717,369,155,69,28,14,10)\n",
    "test = stats.chisquare(observed_values,expected_values)\n",
    "print ('The chi-squared test statistic is %.2f' %test.statistic)\n",
    "print ('The p-value for the test is %.2f' %test.pvalue)"
   ]
  },
  {
   "cell_type": "code",
   "execution_count": 30,
   "metadata": {},
   "outputs": [],
   "source": [
    "#Using alpha = .05 and given the p-value of 0.60, we can conclude that we do not have sufficient evidence to reject \n",
    "#the notion that the wait times follow a geometric distribution for the last 10 years of data for the S&P500, i.e. we\n",
    "#cannot reject the notion that trading days are independent"
   ]
  },
  {
   "cell_type": "code",
   "execution_count": null,
   "metadata": {},
   "outputs": [],
   "source": []
  }
 ],
 "metadata": {
  "colab": {
   "collapsed_sections": [],
   "name": "Assignment 3v.3.ipynb",
   "provenance": [],
   "version": "0.3.2"
  },
  "kernelspec": {
   "display_name": "Python 3",
   "language": "python",
   "name": "python3"
  },
  "language_info": {
   "codemirror_mode": {
    "name": "ipython",
    "version": 3
   },
   "file_extension": ".py",
   "mimetype": "text/x-python",
   "name": "python",
   "nbconvert_exporter": "python",
   "pygments_lexer": "ipython3",
   "version": "3.7.7"
  }
 },
 "nbformat": 4,
 "nbformat_minor": 1
}
