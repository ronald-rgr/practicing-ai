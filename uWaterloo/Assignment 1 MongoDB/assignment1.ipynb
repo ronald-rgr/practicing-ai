{
 "cells": [
  {
   "cell_type": "markdown",
   "metadata": {
    "colab_type": "text",
    "id": "QxDhTyclvzuz"
   },
   "source": [
    "## Assignment 1: MongoDB"
   ]
  },
  {
   "cell_type": "markdown",
   "metadata": {
    "colab_type": "text",
    "id": "JjUBX185vzu0"
   },
   "source": [
    "This assignment is based on content discussed in Module 2: Introduction to MongoDB"
   ]
  },
  {
   "cell_type": "markdown",
   "metadata": {
    "colab_type": "text",
    "id": "Y5sVEZYQvzu1"
   },
   "source": [
    "## Learning outcomes "
   ]
  },
  {
   "cell_type": "markdown",
   "metadata": {
    "colab_type": "text",
    "id": "RNAMrxvpvzu1"
   },
   "source": [
    "The purpose of this assignment is for learners to be able to:\n",
    "- Familarize with JSON document syntax\n",
    "- Understand basic MongoDB CRUD operations\n",
    "- Understand MongoDB data pipelines to run aggregate queries"
   ]
  },
  {
   "cell_type": "markdown",
   "metadata": {
    "colab_type": "text",
    "id": "DB6Mhqwrvzu2"
   },
   "source": [
    "In this assignment, you will make use of the sample data provided in Module 2.  \n",
    "\n",
    "This dataset has 3 collections: Employee, Workplace and Address.  You will import this data into your local MongoDB database.\n",
    "\n",
    "Required imports for this project are given below. Make sure you have all libraries required for this project installed. You may use conda or pip based on your set up."
   ]
  },
  {
   "cell_type": "markdown",
   "metadata": {
    "colab_type": "text",
    "id": "ZPXaQ47onjsR"
   },
   "source": [
    "## Setup Notes\n",
    "\n",
    "**Please note** These instructions are duplicated here for your reference. You would have encountered them originally in Module 2 Part 2. It is expected that you have already taken the steps to set up and run MongoDB.\n",
    "\n",
    "We will be using MongoDB Community Edition.  The MongoDB database <b>MUST</b> be installed and running locally before continuing with this notebook.  We will need to install two packages using the Anaconda package manager:\n",
    "\n",
    "1. [Mongodb](https://www.mongodb.com/) - this package contains the mongodb database \n",
    "2. [PyMongo](http://api.mongodb.com/python/current/) - this packages contains the python driver that will allow us to communicate with the mongodb database.\n",
    "\n",
    "#### Install\n",
    "\n",
    "1. Open a command line terminal and execute the following commad to install mongodb.\n",
    "```console\n",
    "conda install -c anaconda mongodb\n",
    "```\n",
    "2. Open a command line terminal and execute the following commad to install pymongo packge.\n",
    "```console\n",
    "conda install -c anaconda pymongo\n",
    "```\n",
    "\n",
    "#### Run Mongodb in Windows\n",
    "1. MongoDB requires a data directory to store all data. MongoDB’s default data directory path is \\data\\db. Create this folder using the following commands from a Command Prompt:\n",
    "```console\n",
    "md \\data\\db\n",
    "```\n",
    "\n",
    "2. To start MongoDB, run mongod.exe. For example, from the Command Prompt:\n",
    "```console\n",
    "\"C:\\Program Files\\MongoDB\\Server\\3.2\\bin\\mongod.exe\"\n",
    "```\n",
    "\n",
    "#### Run Mongodb in Mac\n",
    "1. MongoDB requires a data directory to store all data. MongoDB’s default data directory path is /data/db. Create this folder using the following commands from a Command Prompt.  Note that we run the command as a super user using the \"sudo\" command:\n",
    "```console\n",
    "sudo mkdir /data/db/\n",
    "```\n",
    "\n",
    "2. To start MongoDB, run mongod.exe. For example, from the Command Promp.  Note that we run the command as a super user using the \"sudo\" command:\n",
    "```console\n",
    "sudo mongod --config /usr/local/etc/mongod.conf\n",
    "```"
   ]
  },
  {
   "cell_type": "code",
   "execution_count": 1,
   "metadata": {
    "colab": {},
    "colab_type": "code",
    "id": "Gqxn8n27vzu3",
    "outputId": "7cf9a92e-d0d2-49d8-cfce-532dccb4e94a"
   },
   "outputs": [
    {
     "name": "stdout",
     "output_type": "stream",
     "text": [
      "Mongo version 3.9.0\n"
     ]
    }
   ],
   "source": [
    "#required imports\n",
    "import os\n",
    "import json\n",
    "import datetime\n",
    "import pymongo\n",
    "import pprint\n",
    "import pandas as pd\n",
    "import numpy as np\n",
    "from pymongo import MongoClient\n",
    "print('Mongo version', pymongo.__version__)"
   ]
  },
  {
   "cell_type": "markdown",
   "metadata": {
    "colab_type": "text",
    "id": "TeBZEImlnjsY"
   },
   "source": [
    "We first need to connect to our locally running MongoDB database (<b>Make sure your database is running on your machine</b>). We will use the MongoClient to connect to a local 'test' database that is running on port 27017 (this is the default port)."
   ]
  },
  {
   "cell_type": "code",
   "execution_count": 2,
   "metadata": {
    "colab": {},
    "colab_type": "code",
    "id": "UdtVCmGGnjsZ"
   },
   "outputs": [],
   "source": [
    "client = MongoClient('localhost', 27017)\n",
    "db = client.assignment1"
   ]
  },
  {
   "cell_type": "markdown",
   "metadata": {
    "colab_type": "text",
    "id": "2WW6r96Tvzu7"
   },
   "source": [
    "After installing necessary modules proceed to import the data into your database."
   ]
  },
  {
   "cell_type": "code",
   "execution_count": 3,
   "metadata": {
    "colab": {},
    "colab_type": "code",
    "id": "5VDnAuj6vzu7"
   },
   "outputs": [],
   "source": [
    "# Let's delete any existing collections in our database\n",
    "db.workplace.drop()\n",
    "db.address.drop()\n",
    "db.employee.drop()\n",
    "\n",
    "# Import our files into our three collections\n",
    "with open('Data/Employee.json') as f:\n",
    "    db.employee.insert_many(json.load(f))\n",
    "with open('Data/Workplace.json') as f:\n",
    "    db.workplace.insert_many(json.load(f))\n",
    "with open('Data/Address.json') as f:\n",
    "    db.address.insert_many(json.load(f))"
   ]
  },
  {
   "cell_type": "markdown",
   "metadata": {
    "colab_type": "text",
    "id": "3lL-abBuvzu9"
   },
   "source": [
    "#### Question 1 (10 Marks)\n",
    "\n",
    "The address collection contains employee from different ages and interests.  Perform a simple query to list all employees that are less than or equal to 50 and like Cooking.\n",
    "\n",
    "__NOTE:__ the following shows the structure of an Employee document that will help you construct the query."
   ]
  },
  {
   "cell_type": "code",
   "execution_count": 4,
   "metadata": {
    "colab": {},
    "colab_type": "code",
    "id": "gqB8V6Xbnjsf",
    "outputId": "b757f86e-0d69-4e8c-e65d-4415e5a9cd57"
   },
   "outputs": [
    {
     "name": "stdout",
     "output_type": "stream",
     "text": [
      "{'_id': '9f39da36-82cc-4353-ab90-d616105fa7c1',\n",
      " 'address_id': 'b6c0b50a-d0e3-43bf-a2a4-8d4674c2a7e8',\n",
      " 'age': 40,\n",
      " 'email': 'ih@ri.ro',\n",
      " 'firstname': 'Emilie',\n",
      " 'interests': ['Bowling', 'Cooking', 'Golf', 'Swimming'],\n",
      " 'lastname': 'Woods',\n",
      " 'workplace_id': 'a32bf18d-e0e5-48f2-a851-aa49c80f9460'}\n"
     ]
    }
   ],
   "source": [
    "pprint.pprint(client.assignment1.employee.find_one())"
   ]
  },
  {
   "cell_type": "code",
   "execution_count": 7,
   "metadata": {
    "colab": {},
    "colab_type": "code",
    "id": "nRLVQgQQvzu9"
   },
   "outputs": [],
   "source": [
    "# YOUR CODE HERE"
   ]
  },
  {
   "cell_type": "markdown",
   "metadata": {
    "colab_type": "text",
    "id": "HcLWsbNmvzvD"
   },
   "source": [
    "#### Question 2  (10 Marks)\n",
    "\n",
    "Insert a new Employee with the following properties:\n",
    "\n",
    "* First Name: Jake \n",
    "* Last Name: Sample\n",
    "* Email: jakesample@email.com\n",
    "* Age: 26\n",
    "* Interest: Biking, Hiking\n",
    "\n",
    "Also, this employee works for 'Union Planters Corp' and lives at '573 Wojhas Square, Victoria'.\n",
    "Verify that the insert succeeded and display the generated employees _id attribute.\n",
    "\n",
    "__HINT__ An Employee document references a Workplace and Address document"
   ]
  },
  {
   "cell_type": "code",
   "execution_count": 9,
   "metadata": {
    "colab": {},
    "colab_type": "code",
    "id": "At7EoGtLvzvE"
   },
   "outputs": [],
   "source": [
    "# YOUR CODE HERE"
   ]
  },
  {
   "cell_type": "markdown",
   "metadata": {
    "colab_type": "text",
    "id": "Bq6r7ffrvzvI"
   },
   "source": [
    "#### Question 3 (10 Marks)\n",
    "\n",
    "Delete all employees that work for 'Great Plains Energy Inc' and are greater than 46 years old and likes 'Tennis'. Once you delete the employees verify the number of employees deleted."
   ]
  },
  {
   "cell_type": "code",
   "execution_count": 0,
   "metadata": {
    "colab": {},
    "colab_type": "code",
    "id": "XtzUs6YDvzvJ"
   },
   "outputs": [],
   "source": [
    "# YOUR CODE HERE"
   ]
  },
  {
   "cell_type": "markdown",
   "metadata": {
    "colab_type": "text",
    "id": "-yi0OsI0vzvQ"
   },
   "source": [
    "#### Question 4 (12 Marks)\n",
    "Add a new field called 'industry' to all employees that work for 'Health Net Inc.'.\n",
    "\n",
    "__HINT__ All a new field to a document is like updating the document"
   ]
  },
  {
   "cell_type": "code",
   "execution_count": 0,
   "metadata": {
    "colab": {},
    "colab_type": "code",
    "id": "gWj7cut_vzvR"
   },
   "outputs": [],
   "source": [
    "# YOUR CODE HERE"
   ]
  },
  {
   "cell_type": "markdown",
   "metadata": {
    "colab_type": "text",
    "id": "AlvB2ficvzvW"
   },
   "source": [
    "#### Question 5 (10 Marks)\n",
    "\n",
    "Create an aggregate query to count the number of employees for each company and sort the output from largest employee count to lowest employee count.\n",
    "\n",
    "__NOTE__ you will use a pipeline to achieve the computed result.  You should produce a result similar to the following table (the following table contains fake data)\n",
    "<table>\n",
    "    <tr><th></th><th>_id</th><th>count</th></tr>\n",
    "    <tr><td>0</td><td>[Equity Residential Properties Trust]</td><td>19</td></tr>\n",
    "    <tr><td>...</td><td>...</td><td>...</td></tr>\n",
    "    <tr><td>7</td><td>[Bell Microproducts Inc.]</td><td>6</td></tr>\n",
    "    <tr><td>8</td><td>[Kemet Corp.]</td><td>1</td></tr>\n",
    "</table>\n",
    "\n",
    "__HINT__ you should make use of the \\\\$lookup, \\\\$group and \\\\$sort pipeline operations"
   ]
  },
  {
   "cell_type": "code",
   "execution_count": 0,
   "metadata": {
    "colab": {},
    "colab_type": "code",
    "id": "ajgvx8V5vzvW"
   },
   "outputs": [],
   "source": [
    "# YOUR CODE HERE\n",
    "\n",
    "query_result = # YOUR CODE HERE\n",
    "\n",
    "pd.DataFrame(list(query_result))"
   ]
  }
 ],
 "metadata": {
  "colab": {
   "collapsed_sections": [],
   "name": "Assignment_1.ipynb",
   "provenance": [],
   "version": "0.3.2"
  },
  "kernelspec": {
   "display_name": "Python 3",
   "language": "python",
   "name": "python3"
  },
  "language_info": {
   "codemirror_mode": {
    "name": "ipython",
    "version": 3
   },
   "file_extension": ".py",
   "mimetype": "text/x-python",
   "name": "python",
   "nbconvert_exporter": "python",
   "pygments_lexer": "ipython3",
   "version": "3.7.4"
  }
 },
 "nbformat": 4,
 "nbformat_minor": 1
}
